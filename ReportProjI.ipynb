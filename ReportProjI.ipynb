{
 "cells": [
  {
   "cell_type": "markdown",
   "id": "ba5e7e2b",
   "metadata": {},
   "source": [
    "# Project I report\n",
    "\n",
    "First enter your name and ID below.\n",
    "Then, answer the question and report on your results according to the instructions.\n",
    "Your code needs to be submitted via a pull request to your github repo. Both the code and report will be graded."
   ]
  },
  {
   "cell_type": "markdown",
   "id": "35ac5bbb",
   "metadata": {},
   "source": [
    "### Name:\n",
    "\n",
    "### ID: "
   ]
  },
  {
   "cell_type": "markdown",
   "id": "089b8d17",
   "metadata": {},
   "source": [
    "## Part A - one Ar atom in a 1D harmonic trap\n",
    "\n",
    "**Simulation definitions:**\n",
    "\n",
    "$$\n",
    "V = \\frac{1}{2} m \\omega_0^2 x^2\n",
    "$$\n",
    "\n",
    "Number of particles: 1.\n",
    "\n",
    "Initial position: x = 5 Angstrom.\n",
    "\n",
    "Initial momenta: Zero.\n",
    "\n",
    "Periodic boundary conditions: No.\n",
    "\n",
    "Nsteps = 10000.\n",
    "\n",
    "trap frequency = $\\hbar \\omega_0 = 50$ meV.\n",
    "\n",
    "**Questions and figures:**\n",
    "\n",
    "1. Figure 1: Plot the change in the total energy with respect to t=0 (in precent) vs. for time different values of dt.\n",
    "2. What is the largest dt you can use so that the energy is conserved better than 0.1% of its initial value?\n",
    "3. Figure 2: Plot the position of the particle vs. time. Explain the observed dynamics.\n",
    "4. Figure 3: Plot the potential and kinteic energies vs. time.\n",
    "5. Figure 4: Plot the histogram of the position of the particle.\n",
    "6. Figure 5: Plot the histogram of the momenta of the particle.\n",
    "6. Explain the shape of the histograms in Figures 4-5. How do you excpect them to change in the canonical ensemble?\n"
   ]
  },
  {
   "cell_type": "markdown",
   "id": "38b76633",
   "metadata": {},
   "source": [
    "## Part B - 256 Argon particles with PBC\n",
    "\n",
    "**Simulation definitions:**\n",
    "\n",
    "Number of particles: 256.\n",
    "\n",
    "Potential: Lennard Jones with $\\varepsilon = 1.656778224E-21 $ J and $\\sigma = 3.4$ Angstrom.\n",
    "\n",
    "Initial positions: Use the provided Ar_init_super.xyz. Note, it is given in Angstrom.\n",
    "\n",
    "Initial momenta: Sample from the Maxwell-Boltzmann distribution at 298 K.\n",
    "\n",
    "Periodic boundary conditions: Yes, L=22.6 Angstrom.\n",
    "\n",
    "Nsteps = 10000.\n",
    "\n",
    "Print xyz and therodynamics every: 100 steps.\n",
    "\n",
    "**Questions and figures:**\n",
    "\n",
    "1. Figure 1: Plot the total energy vs. time for different values of dt (10 fs, 20 fs, 30 fs). Explain the trend.\n",
    "3. Figure 2: Using dt=10 fs, plot the potential and kinteic energies vs. time. \n",
    "4. Figure 3: Plot the difference in precent from the initial value of the total energy vs the time.\n",
    "5. Figure 4: Plot the average histogram of the distances between all the particles* in the range [0,L/2] Angstrom. \n",
    "6. Repeat the simulation when you sample the initial velocities using T = 40 K.\n",
    "7. Repeat the simulation with L=113 Angstrom, Scale the initial coordinates by a factor of 5 in each dimension, sample the initial velocities from T=298 K.\n",
    "7. Compare the three histograms. What do you observe? Explain the difference.\n",
    "\n",
    "*You can either implement it yourself or load the final xyz file of the simulation into [VMD](https://www.ks.uiuc.edu/Research/vmd/) and use their analysis tool for obtaining the pair radial distribution function. It is similar to the histogram, but normalized differently. You can read more about it in the Book by Allen and Tildesley from the syllabus."
   ]
  }
 ],
 "metadata": {
  "kernelspec": {
   "display_name": "Python 3 (ipykernel)",
   "language": "python",
   "name": "python3"
  },
  "language_info": {
   "codemirror_mode": {
    "name": "ipython",
    "version": 3
   },
   "file_extension": ".py",
   "mimetype": "text/x-python",
   "name": "python",
   "nbconvert_exporter": "python",
   "pygments_lexer": "ipython3",
   "version": "3.9.7"
  }
 },
 "nbformat": 4,
 "nbformat_minor": 5
}
