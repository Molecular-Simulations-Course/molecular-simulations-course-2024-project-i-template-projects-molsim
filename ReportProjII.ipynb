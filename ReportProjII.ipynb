{
 "cells": [
  {
   "cell_type": "markdown",
   "id": "ba5e7e2b",
   "metadata": {},
   "source": [
    "# Project II report\n",
    "\n",
    "First enter your name and ID below.\n",
    "Then, answer the questions and report on your results according to the instructions.\n",
    "Your code needs to be submitted via a pull request to your github repo. Both the code and report will be graded."
   ]
  },
  {
   "cell_type": "markdown",
   "id": "35ac5bbb",
   "metadata": {},
   "source": [
    "### Name:\n",
    "\n",
    "### ID: "
   ]
  },
  {
   "cell_type": "markdown",
   "id": "089b8d17",
   "metadata": {},
   "source": [
    "## Part A - one Ar atom in a 1D harmonic trap\n",
    "\n",
    "**Simulation definitions:**\n",
    "\n",
    "$$\n",
    "V = \\frac{1}{2} m \\omega_0^2 x^2\n",
    "$$\n",
    "\n",
    "Number of particles: 1.\n",
    "\n",
    "Initial position: x = 5 Angstrom.\n",
    "\n",
    "Periodic boundary conditions: No.\n",
    "\n",
    "Nsteps = 10000.\n",
    "\n",
    "trap frequency = $\\hbar \\omega_0 = 50$ meV.\n",
    "\n",
    "Temperature = 298 K.\n",
    "\n",
    "**Questions and figures:**\n",
    "\n",
    "1. Figure 1: Plot the acceptance ratio with respect to the maximal allowed translation step size. \n",
    "2. What is the maximal step size you can use so that the acceptance ratio is 60\\%?\n",
    "3. Figure 2: Plot the position of the particle vs. step number. Explain the observed trajectory.\n",
    "4. Figure 3: Plot the potential energy vs. step number. Explain the observed behavior.\n",
    "5. Figure 4: Plot the histogram of the position of the particle. Drop the first 100 data points.\n",
    "6. Explain the shape of the histograms in Figure 4 in comparison to the result of Ex.1.\n"
   ]
  },
  {
   "cell_type": "markdown",
   "id": "d5803ae2",
   "metadata": {},
   "source": [
    "## Part B - one Ar atom in a 1D anharmonic trap\n",
    "\n",
    "**Simulation definitions:**\n",
    "\n",
    "$$\n",
    "V = \\frac{1}{4} \\lambda x^4\n",
    "$$\n",
    "\n",
    "Number of particles: 1.\n",
    "\n",
    "Initial position: x = 0.5 Angstrom.\n",
    "\n",
    "Periodic boundary conditions: No.\n",
    "\n",
    "Nsteps = 10000.\n",
    "\n",
    "Use $\\lambda = 7.757 \\cdot 10^{23} J m^{-4}$.\n",
    "\n",
    "Temperature = 298 K.\n",
    "\n",
    "**Questions and figures:**\n",
    "\n",
    "1. Figure 1: Plot the acceptance ratio with respect to the maximal allowed translation step size. \n",
    "2. What is the maximal step size you can use so that the acceptance ratio is 60\\%? Compare with Part A.\n",
    "3. Figure 2: Plot the position of the particle vs. step number. Explain the observed trajectory.\n",
    "4. Figure 3: Plot the potential energy vs. step number. Explain the observed behavior.\n",
    "5. Figure 4: Plot the histogram of the position of the particle. Drop the first 100 data points. Compare with Part A.\n"
   ]
  },
  {
   "cell_type": "markdown",
   "id": "38b76633",
   "metadata": {},
   "source": [
    "## Part C - 256 Argon particles with PBC\n",
    "\n",
    "**Simulation definitions:**\n",
    "\n",
    "Number of particles: 256.\n",
    "\n",
    "Potential: Lennard Jones with $\\varepsilon = 1.656778224E-21 $ J and $\\sigma = 3.4$ Angstrom.\n",
    "\n",
    "Initial positions: Use the provided Ar_init_super.xyz. Note, it is given in Angstrom.\n",
    "\n",
    "Periodic boundary conditions: Yes, L=22.6 Angstrom.\n",
    "\n",
    "Nsteps = 10000.\n",
    "\n",
    "Print xyz and therodynamics every: 100 steps.\n",
    "\n",
    "Temperature = 298 K.\n",
    "\n",
    "**Questions and figures:**\n",
    "\n",
    "1. Figure 1: Plot the acceptance ratio maximal step size. Determine the step size leading to 60\\% acceptance.\n",
    "2. Figure 2: Using that step size, plot the potential energy vs. step number. Explain the observed behavior.\n",
    "3. Figure 3: Plot the average histogram of the distances between all the particles* in the range [0,15] Angstrom. \n",
    "4. Repeat the simulation when you sample for T = 40 K.\n",
    "5. Repeat the simulation with L=113 Angstrom, Scale the initial coordinates by a factor of 5 in each dimension, use T=298 K.\n",
    "6. Compare the three histograms. What do you observe? Explain the difference.\n",
    "\n",
    "*You can either implement it yourself or load the final xyz file of the simulation into [VMD](https://www.ks.uiuc.edu/Research/vmd/) and use their analysis tool for obtaining the pair radial distribution function. It is similar to the histogram, but normalized differently. You can read more about it in the Book by Allen and Tildesley from the syllabus."
   ]
  },
  {
   "cell_type": "code",
   "execution_count": null,
   "id": "6ed6eef4",
   "metadata": {},
   "outputs": [],
   "source": []
  }
 ],
 "metadata": {
  "kernelspec": {
   "display_name": "Python 3 (ipykernel)",
   "language": "python",
   "name": "python3"
  },
  "language_info": {
   "codemirror_mode": {
    "name": "ipython",
    "version": 3
   },
   "file_extension": ".py",
   "mimetype": "text/x-python",
   "name": "python",
   "nbconvert_exporter": "python",
   "pygments_lexer": "ipython3",
   "version": "3.9.7"
  }
 },
 "nbformat": 4,
 "nbformat_minor": 5
}
